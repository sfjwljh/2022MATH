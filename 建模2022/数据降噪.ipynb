{
 "cells": [
  {
   "cell_type": "code",
   "execution_count": 1,
   "metadata": {},
   "outputs": [],
   "source": [
    "import pandas as pd\n",
    "from sklearn.decomposition import PCA"
   ]
  },
  {
   "cell_type": "code",
   "execution_count": 2,
   "metadata": {},
   "outputs": [],
   "source": [
    "data_K = pd.read_excel('数据预处理.xlsx',sheet_name='Sheet3')"
   ]
  },
  {
   "cell_type": "code",
   "execution_count": 3,
   "metadata": {},
   "outputs": [],
   "source": [
    "data_K = data_K.iloc[:,6:20]\n",
    "data_K = data_K.fillna(0)\n",
    "pca = PCA(14)\n",
    "pca.fit(data_K)\n",
    "data_K_new = pca.fit_transform(data_K)\n",
    "data_K_new = pca.inverse_transform(data_K_new)\n",
    "pd.DataFrame(data_K_new).to_excel('PCA后data.xlsx')"
   ]
  },
  {
   "cell_type": "code",
   "execution_count": 4,
   "metadata": {},
   "outputs": [
    {
     "data": {
      "text/plain": [
       "array([8.98693021e-01, 3.94642647e-02, 3.02818290e-02, 1.59728349e-02,\n",
       "       7.79800494e-03, 3.30119267e-03, 2.27641965e-03, 1.16858835e-03,\n",
       "       6.15189172e-04, 2.47899946e-04, 1.30972537e-04, 4.50728489e-05,\n",
       "       4.34672144e-06, 3.63582580e-07])"
      ]
     },
     "execution_count": 4,
     "metadata": {},
     "output_type": "execute_result"
    }
   ],
   "source": [
    "pca.explained_variance_ratio_"
   ]
  }
 ],
 "metadata": {
  "kernelspec": {
   "display_name": "Python 3.8.8 ('base')",
   "language": "python",
   "name": "python3"
  },
  "language_info": {
   "codemirror_mode": {
    "name": "ipython",
    "version": 3
   },
   "file_extension": ".py",
   "mimetype": "text/x-python",
   "name": "python",
   "nbconvert_exporter": "python",
   "pygments_lexer": "ipython3",
   "version": "3.8.8"
  },
  "orig_nbformat": 4,
  "vscode": {
   "interpreter": {
    "hash": "96ba8e2a7ae2de4dff8989811ec90c4a3eb1fc1ac3970bd2fce7181195b22303"
   }
  }
 },
 "nbformat": 4,
 "nbformat_minor": 2
}
